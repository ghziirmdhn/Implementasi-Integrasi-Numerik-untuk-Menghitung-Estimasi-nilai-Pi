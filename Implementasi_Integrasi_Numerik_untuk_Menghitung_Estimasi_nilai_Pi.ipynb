import numpy as np
import time

# Fungsi yang akan diintegrasikan
def f(x):
    return 4 / (1 + x**2)

# Integrasi Simpson 1/3
def simpson_integral(N):
    if N % 2 == 1:
        N += 1
    a = 0
    b = 1
    h = (b - a) / N
    result = f(a) + f(b)
    for i in range(1, N, 2):
        result += 4 * f(a + i * h)
    for i in range(2, N, 2):
        result += 2 * f(a + i * h)
    result *= h / 3
    return result

# Mengukur galat RMS dan waktu eksekusi
def test_simpson():
    N_values = [10, 100, 1000, 10000]
    pi_actual = 3.14159265358979323846
    print("Nama: Muhammad Ghazi Ramadhan")
    print("NIM: 21120122140114")
    for N in N_values:
        start_time = time.time()
        pi_estimate = simpson_integral(N)
        end_time = time.time()
        error = np.sqrt((pi_actual - pi_estimate) ** 2)
        print(f"N = {N}, Estimate = {pi_estimate}, RMS Error = {error}, Execution Time = {end_time - start_time:.6f} seconds")

# Menjalankan pengujian
test_simpson()
