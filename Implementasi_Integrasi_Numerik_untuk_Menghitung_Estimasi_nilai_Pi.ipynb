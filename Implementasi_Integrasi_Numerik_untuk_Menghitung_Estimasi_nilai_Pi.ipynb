{
  "nbformat": 4,
  "nbformat_minor": 0,
  "metadata": {
    "colab": {
      "provenance": [],
      "authorship_tag": "ABX9TyOPCNyt5OQ0MJTtvxc8Ui0/",
      "include_colab_link": true
    },
    "kernelspec": {
      "name": "python3",
      "display_name": "Python 3"
    },
    "language_info": {
      "name": "python"
    }
  },
  "cells": [
    {
      "cell_type": "markdown",
      "metadata": {
        "id": "view-in-github",
        "colab_type": "text"
      },
      "source": [
        "<a href=\"https://colab.research.google.com/github/ghziirmdhn/Implementasi-Integrasi-Numerik-untuk-Menghitung-Estimasi-nilai-Pi/blob/main/Implementasi_Integrasi_Numerik_untuk_Menghitung_Estimasi_nilai_Pi.ipynb\" target=\"_parent\"><img src=\"https://colab.research.google.com/assets/colab-badge.svg\" alt=\"Open In Colab\"/></a>"
      ]
    },
    {
      "cell_type": "code",
      "execution_count": 6,
      "metadata": {
        "colab": {
          "base_uri": "https://localhost:8080/"
        },
        "id": "xuBq3klfiEVR",
        "outputId": "5cd5895d-b608-417c-fa87-8865a227e507"
      },
      "outputs": [
        {
          "output_type": "stream",
          "name": "stdout",
          "text": [
            "Nama: Muhammad Ghazi Ramadhan\n",
            "NIM: 21120122140114\n",
            "N = 10, Estimate = 3.141592613939215, RMS Error = 3.9650577932093256e-08, Execution Time = 0.000018 seconds\n",
            "N = 100, Estimate = 3.141592653589754, RMS Error = 3.907985046680551e-14, Execution Time = 0.000065 seconds\n",
            "N = 1000, Estimate = 3.141592653589794, RMS Error = 8.881784197001252e-16, Execution Time = 0.000650 seconds\n",
            "N = 10000, Estimate = 3.141592653589784, RMS Error = 9.325873406851315e-15, Execution Time = 0.005445 seconds\n"
          ]
        }
      ],
      "source": [
        "import numpy as np\n",
        "import time\n",
        "\n",
        "# Fungsi yang akan diintegrasikan\n",
        "def f(x):\n",
        "    return 4 / (1 + x**2)\n",
        "\n",
        "# Integrasi Simpson 1/3\n",
        "def simpson_integral(N):\n",
        "    if N % 2 == 1:\n",
        "        N += 1\n",
        "    a = 0\n",
        "    b = 1\n",
        "    h = (b - a) / N\n",
        "    result = f(a) + f(b)\n",
        "    for i in range(1, N, 2):\n",
        "        result += 4 * f(a + i * h)\n",
        "    for i in range(2, N, 2):\n",
        "        result += 2 * f(a + i * h)\n",
        "    result *= h / 3\n",
        "    return result\n",
        "\n",
        "# Mengukur galat RMS dan waktu eksekusi\n",
        "def test_simpson():\n",
        "    N_values = [10, 100, 1000, 10000]\n",
        "    pi_actual = 3.14159265358979323846\n",
        "    print(\"Nama: Muhammad Ghazi Ramadhan\")\n",
        "    print(\"NIM: 21120122140114\")\n",
        "    for N in N_values:\n",
        "        start_time = time.time()\n",
        "        pi_estimate = simpson_integral(N)\n",
        "        end_time = time.time()\n",
        "        error = np.sqrt((pi_actual - pi_estimate) ** 2)\n",
        "        print(f\"N = {N}, Estimate = {pi_estimate}, RMS Error = {error}, Execution Time = {end_time - start_time:.6f} seconds\")\n",
        "\n",
        "# Menjalankan pengujian\n",
        "test_simpson()\n"
      ]
    }
  ]
}